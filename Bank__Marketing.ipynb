{
 "cells": [
  {
   "cell_type": "markdown",
   "metadata": {
    "id": "s-buT8WKVSSQ"
   },
   "source": [
    "# **Predict Client Subscriptions to Bank Marketing Campaigns**"
   ]
  },
  {
   "cell_type": "code",
   "execution_count": null,
   "metadata": {
    "colab": {
     "base_uri": "https://localhost:8080/"
    },
    "id": "t4873ctoHCb8",
    "outputId": "7bafb9fd-a8e1-4d91-a829-77db247e2e00"
   },
   "outputs": [],
   "source": [
    "from google.colab import drive\n",
    "drive.mount('/content/drive')"
   ]
  },
  {
   "cell_type": "markdown",
   "metadata": {
    "id": "8nxvcFYqVeiZ"
   },
   "source": [
    "### Import packages"
   ]
  },
  {
   "cell_type": "code",
   "execution_count": null,
   "metadata": {
    "id": "S-lE5F75EdXZ"
   },
   "outputs": [],
   "source": [
    "import sys\n",
    "import pandas as pd\n",
    "import numpy as np\n",
    "import seaborn as sns\n",
    "import copy\n",
    "import random\n",
    "import ppscore as pps\n",
    "import matplotlib.pyplot as plt\n",
    "from array import array\n",
    "from scipy.stats import chisquare\n",
    "from scipy.stats import chi2_contingency \n",
    "from sklearn.model_selection import train_test_split\n",
    "from sklearn.preprocessing import MinMaxScaler\n",
    "from tabulate import tabulate\n",
    "from collections import Counter\n",
    "from sklearn.linear_model import LogisticRegression\n",
    "from sklearn.tree import DecisionTreeClassifier\n",
    "from sklearn.ensemble import RandomForestClassifier\n",
    "from sklearn.svm import SVC\n",
    "from sklearn.neural_network import MLPClassifier\n",
    "from sklearn.neighbors import KNeighborsClassifier\n",
    "from sklearn import tree\n",
    "from sklearn.decomposition import PCA\n",
    "from sklearn.preprocessing import OrdinalEncoder\n",
    "from imblearn.under_sampling import RepeatedEditedNearestNeighbours\n",
    "from sklearn.feature_selection import SelectKBest, chi2\n",
    "from sklearn.metrics import accuracy_score,confusion_matrix\n",
    "from imblearn.under_sampling import InstanceHardnessThreshold\n",
    "from itertools import compress\n",
    "import pickle"
   ]
  },
  {
   "cell_type": "code",
   "execution_count": null,
   "metadata": {
    "id": "Vw71Gv3YVmb6"
   },
   "outputs": [],
   "source": [
    "import warnings\n",
    "from sklearn.exceptions import DataConversionWarning\n",
    "np.seterr(divide = 'ignore')\n",
    "warnings.filterwarnings(action='ignore', category=DataConversionWarning)\n",
    "warnings.filterwarnings('ignore', category=PendingDeprecationWarning)  "
   ]
  },
  {
   "cell_type": "code",
   "execution_count": null,
   "metadata": {
    "id": "MMG-6MMSPXKS"
   },
   "outputs": [],
   "source": [
    "sys.path.append('/content/drive/MyDrive/Colab Notebooks')\n",
    "from SL11 import Trivial_Model,Baseline_Model,Logisitic_Regression,Random_Forest,Support_Vector_Classifier,Multi_Layer_Perceptron,Decision_Tree\n"
   ]
  },
  {
   "cell_type": "code",
   "execution_count": null,
   "metadata": {
    "id": "GN5IF5dzBy4E"
   },
   "outputs": [],
   "source": [
    "from SSL import Prop_1NN,Expectation_Maximization,SSL_Log_Reg,Label_Propagation\n",
    "from qns3vm import QN_S3VM"
   ]
  },
  {
   "cell_type": "markdown",
   "metadata": {
    "id": "T9ufts-8Va25"
   },
   "source": [
    "### Read data"
   ]
  },
  {
   "cell_type": "code",
   "execution_count": null,
   "metadata": {
    "id": "8J7pfBr-EeqE"
   },
   "outputs": [],
   "source": [
    "data=pd.read_csv(\"/content/drive/MyDrive/EE_660_Project/bank-additional/bank-additional-full.csv\", sep = ';')"
   ]
  },
  {
   "cell_type": "code",
   "execution_count": null,
   "metadata": {
    "id": "edUEnNCKTZJW"
   },
   "outputs": [],
   "source": [
    "df=data.copy()"
   ]
  },
  {
   "cell_type": "code",
   "execution_count": null,
   "metadata": {
    "colab": {
     "base_uri": "https://localhost:8080/"
    },
    "id": "OI6-nsg0BFTO",
    "outputId": "f5a577b3-6932-4784-ff6e-cf59c806b79f"
   },
   "outputs": [],
   "source": [
    "df.columns"
   ]
  },
  {
   "cell_type": "code",
   "execution_count": null,
   "metadata": {
    "id": "y4Vp7jBoXztt"
   },
   "outputs": [],
   "source": [
    "df.drop(columns=['duration'],inplace=True)"
   ]
  },
  {
   "cell_type": "code",
   "execution_count": null,
   "metadata": {
    "colab": {
     "base_uri": "https://localhost:8080/",
     "height": 300
    },
    "id": "73mJR9-rK3Pn",
    "outputId": "0b1cf231-645e-4ca9-d497-1d33d4c3d17e"
   },
   "outputs": [],
   "source": [
    "df.describe()"
   ]
  },
  {
   "cell_type": "code",
   "execution_count": null,
   "metadata": {
    "colab": {
     "base_uri": "https://localhost:8080/"
    },
    "id": "7VzQguqRFOa9",
    "outputId": "43b3ff10-8fe7-43e0-9e62-a729f9a24343"
   },
   "outputs": [],
   "source": [
    "df.info()"
   ]
  },
  {
   "cell_type": "markdown",
   "metadata": {
    "id": "5x4bjVzGT8dw"
   },
   "source": [
    "# **Exploratory Data Analysis**"
   ]
  },
  {
   "cell_type": "code",
   "execution_count": null,
   "metadata": {
    "id": "LJN4nt1LhFIT"
   },
   "outputs": [],
   "source": [
    "def generate_groupwise_probability(data,feature,label):\n",
    "    '''\n",
    "    Function to look at the group wise distribution for each feature with respect to the target label \n",
    "    and also look at the percentage wise data distribution to the whole data\n",
    "    \n",
    "    Parameters:\n",
    "    data- dataset\n",
    "    feature- feature for which we want groupwise distribution\n",
    "    label- target label\n",
    "\n",
    "    Return:\n",
    "    d_final- dataset showing group wise distribution\n",
    "    '''\n",
    "    d1=pd.crosstab(data[feature], data[label], dropna=False,margins=True)\n",
    "    d2 = (df.groupby(feature,sort=False)[label].count()/len(df)).round(2)\n",
    "    d3=pd.crosstab(data[feature], data[label], dropna=False, normalize='index').round(2)\n",
    "    d=pd.merge(d1, d2,left_index=True, right_index=True)\n",
    "    d.rename(columns={'All': 'Count_total', 'no': 'Count_no', 'yes': 'Count_yes','y':'Prob_total'}, inplace=True)\n",
    "    d_final=pd.merge(d, d3, on=feature)\n",
    "    d_final.rename(columns={'no': 'Prob_no', 'yes': 'Prob_yes'}, inplace=True)\n",
    "    d_final=d_final[['Count_no', 'Prob_no', 'Count_yes', 'Prob_yes','Count_total', 'Prob_total']]\n",
    "    return d_final"
   ]
  },
  {
   "cell_type": "code",
   "execution_count": null,
   "metadata": {
    "id": "dXFl06wAZPyo"
   },
   "outputs": [],
   "source": [
    "\n",
    "def chi_func(df,feat,label):\n",
    "    '''\n",
    "    Function to find chi-square test value of independence of variables in a contingency table\n",
    "    \n",
    "    Parameters:\n",
    "    df- dataframe\n",
    "    feature- feature\n",
    "    label- target label \n",
    "\n",
    "    Return:\n",
    "    chi2, p-value\n",
    "    '''\n",
    "    cross_tab_table=pd.crosstab(df[feat], df[label], margins=True)\n",
    "    chi2_stat, p, dof, expected =chi2_contingency(cross_tab_table)\n",
    "    print(f\"chi2 statistic:     {chi2_stat:.3g}\")\n",
    "    print(f\"p-value:            {p:.3g}\")"
   ]
  },
  {
   "cell_type": "markdown",
   "metadata": {
    "id": "3M2DDFyWUltG"
   },
   "source": [
    "### Age"
   ]
  },
  {
   "cell_type": "code",
   "execution_count": null,
   "metadata": {
    "colab": {
     "base_uri": "https://localhost:8080/",
     "height": 576
    },
    "id": "KmaujxnIUHC1",
    "outputId": "005aff49-bf66-4993-e34f-d7c83879f0a8"
   },
   "outputs": [],
   "source": [
    "grouped_df=df.groupby(['y'])\n",
    "plt.figure(figsize=(12,8))\n",
    "plt.suptitle('Count vs Age', fontsize=20)\n",
    "#plot 1:\n",
    "plt.subplot(2, 1, 1)\n",
    "plt.hist(grouped_df.get_group('yes')['age'],linewidth=1.2,bins=np.arange(10,100,5),color='plum')\n",
    "plt.axvline(30, color='k', linestyle='dashed', linewidth=1.5)\n",
    "plt.axvline(60, color='k', linestyle='dashed', linewidth=1.5)\n",
    "\n",
    "plt.title('y=\"yes\"', fontsize=15,fontweight=\"bold\")\n",
    "plt.xlabel('Age',fontweight=\"bold\")\n",
    "plt.ylabel('Frequency',fontweight=\"bold\")\n",
    "plt.tight_layout(pad=5.0)\n",
    "#plot 2:\n",
    "plt.subplot(2, 1, 2)\n",
    "plt.hist(grouped_df.get_group('no')['age'], linewidth=1.2,bins=np.arange(10,100,5),color='plum')\n",
    "plt.axvline(30, color='k', linestyle='dashed', linewidth=1.5)\n",
    "plt.axvline(60, color='k', linestyle='dashed', linewidth=1.5)\n",
    "\n",
    "plt.title('y=\"no\"', fontsize=15,fontweight=\"bold\")\n",
    "plt.xlabel('Age',fontweight=\"bold\")\n",
    "plt.ylabel('Frequency',fontweight=\"bold\")\n",
    "plt.show()"
   ]
  },
  {
   "cell_type": "markdown",
   "metadata": {
    "id": "OiUCcLpc9n1g"
   },
   "source": [
    "The plot above shows that there are 3 broad age categories that influence the way clients subscribe to a term deposit. The categories are as follows:\n",
    "\n",
    "i) Below 30 years old (Young): Between the age of 20 and 30 clients begin to take subscriptions.\n",
    "\n",
    "\n",
    "ii) 30 years old to 60 years old (Middle aged): More unwilling to take deposits than other categories. A lot of clients take subscriptions around the age of 30.\n",
    "\n",
    "iii)Above 60 years old (Retired):Most of the retired clients end up taking subscriptions\n",
    "\n",
    "\n"
   ]
  },
  {
   "cell_type": "markdown",
   "metadata": {
    "id": "dLp5ojbPbr-e"
   },
   "source": [
    "### *Jobs*"
   ]
  },
  {
   "cell_type": "code",
   "execution_count": null,
   "metadata": {
    "colab": {
     "base_uri": "https://localhost:8080/",
     "height": 457
    },
    "id": "6bYWq-zvmCh6",
    "outputId": "c10ff4af-2dd5-43f2-bfdb-f65c32e7220c"
   },
   "outputs": [],
   "source": [
    "generate_groupwise_probability(df,'job','y')"
   ]
  },
  {
   "cell_type": "markdown",
   "metadata": {
    "id": "OHhQR6HboAly"
   },
   "source": [
    "A majority of clients with the job of admin end up subscribing to a term deposit. In the case of jobs like blue-collar, entrepreneur and services very few people end up subscribing. A lot of students are observed to end up subscribing."
   ]
  },
  {
   "cell_type": "markdown",
   "metadata": {
    "id": "WE3iFx-Fj5Wt"
   },
   "source": [
    "### *Marital*"
   ]
  },
  {
   "cell_type": "code",
   "execution_count": null,
   "metadata": {
    "colab": {
     "base_uri": "https://localhost:8080/",
     "height": 206
    },
    "id": "7DD537rwWJsz",
    "outputId": "8897e925-cd0a-4b5b-a5d0-3cd7e739d18e"
   },
   "outputs": [],
   "source": [
    "generate_groupwise_probability(df,'marital','y')"
   ]
  },
  {
   "cell_type": "markdown",
   "metadata": {
    "id": "CA57tLWfpCwb"
   },
   "source": [
    "Single people are observed to subscribe to a term deposit more often than married or divorced.\n",
    "\n"
   ]
  },
  {
   "cell_type": "markdown",
   "metadata": {
    "id": "PM4mlaENzkMj"
   },
   "source": [
    "### *Education*"
   ]
  },
  {
   "cell_type": "code",
   "execution_count": null,
   "metadata": {
    "id": "OKtmuNTn7zt_"
   },
   "outputs": [],
   "source": [
    "df_education_yes=df[df['y']=='yes'].groupby('education')['y'].count()\n",
    "df_education_no=df[df['y']=='no'].groupby('education')['y'].count()"
   ]
  },
  {
   "cell_type": "code",
   "execution_count": null,
   "metadata": {
    "colab": {
     "base_uri": "https://localhost:8080/",
     "height": 594
    },
    "id": "JciCBQoACqYI",
    "outputId": "029eb73b-444d-4c03-9baa-f39da0c5d024"
   },
   "outputs": [],
   "source": [
    "plt.figure(figsize=(12,8))\n",
    "r = np.arange(8)\n",
    "width = 0.25\n",
    "plt.bar(r,df_education_yes, 0.25, color='green', align='center',label='y=yes')\n",
    "plt.bar(r+width,df_education_no, 0.25, color='orange', align='center',label='y=no')\n",
    "plt.xlabel(\"Education\",fontweight=\"bold\")\n",
    "plt.ylabel(\"Count\",fontweight=\"bold\")\n",
    "plt.title(\"Number of people who subscribed vs. who didnot as per Education\", fontsize=15,fontweight=\"bold\")\n",
    "plt.xticks(r + width/2,['basic.4y','basic.6y','basic.9y','high.school','illiterate','professional.course','university.degree','unknown'],rotation=60)\n",
    "plt.legend()\n",
    "plt.show()"
   ]
  },
  {
   "cell_type": "markdown",
   "metadata": {
    "id": "WcIBQoeiwXTh"
   },
   "source": [
    "The group illiterate has few points only so we can drop it off."
   ]
  },
  {
   "cell_type": "code",
   "execution_count": null,
   "metadata": {
    "id": "bnGW61d6wlgR"
   },
   "outputs": [],
   "source": [
    "# delete all rows with column 'Age' has value 30 to 40\n",
    "index_education= df[ (df['education'] =='illiterate') ].index\n",
    "df.drop(index_education , inplace=True)"
   ]
  },
  {
   "cell_type": "markdown",
   "metadata": {
    "id": "v5sec1CjwiDP"
   },
   "source": [
    "### *Default*"
   ]
  },
  {
   "cell_type": "code",
   "execution_count": null,
   "metadata": {
    "colab": {
     "base_uri": "https://localhost:8080/",
     "height": 175
    },
    "id": "FpZyy9-5UsPz",
    "outputId": "2c0ed267-36fd-43be-c9de-36f202699d5d"
   },
   "outputs": [],
   "source": [
    "generate_groupwise_probability(df,'default','y')"
   ]
  },
  {
   "cell_type": "markdown",
   "metadata": {
    "id": "zq0rWsdUyr5o"
   },
   "source": [
    "We observe that there are only 3 for default='yes' so we can drop this feature as the remaining group is just 'no' and there is not much information about the minority group 'yes'."
   ]
  },
  {
   "cell_type": "code",
   "execution_count": null,
   "metadata": {
    "id": "9c2aCvvEXavG"
   },
   "outputs": [],
   "source": [
    "df.drop(columns=['default'],inplace=True)"
   ]
  },
  {
   "cell_type": "markdown",
   "metadata": {
    "id": "RgUdVxlELLA_"
   },
   "source": [
    "### *Loan*"
   ]
  },
  {
   "cell_type": "code",
   "execution_count": null,
   "metadata": {
    "colab": {
     "base_uri": "https://localhost:8080/",
     "height": 175
    },
    "id": "B3ImLmxmUsSV",
    "outputId": "6e675121-cfb9-4e5d-e16e-7782e8ecd461"
   },
   "outputs": [],
   "source": [
    "generate_groupwise_probability(df,'loan','y')"
   ]
  },
  {
   "cell_type": "code",
   "execution_count": null,
   "metadata": {
    "colab": {
     "base_uri": "https://localhost:8080/"
    },
    "id": "Ra0npCK4nnrB",
    "outputId": "b3918736-f7a6-4a46-e6ea-805b56ab2494"
   },
   "outputs": [],
   "source": [
    "chi_func(df,'loan','y')"
   ]
  },
  {
   "cell_type": "markdown",
   "metadata": {
    "id": "O25h9MPjLUIA"
   },
   "source": [
    "### *Housing*"
   ]
  },
  {
   "cell_type": "code",
   "execution_count": null,
   "metadata": {
    "colab": {
     "base_uri": "https://localhost:8080/",
     "height": 175
    },
    "id": "5oOJTK1MUpv8",
    "outputId": "335cedff-c805-4808-8789-2003f43535f9"
   },
   "outputs": [],
   "source": [
    "generate_groupwise_probability(df,'housing','y')"
   ]
  },
  {
   "cell_type": "code",
   "execution_count": null,
   "metadata": {
    "colab": {
     "base_uri": "https://localhost:8080/"
    },
    "id": "PEIJHXRsnGej",
    "outputId": "ab1471d5-0255-4050-a853-13e3fe9c4639"
   },
   "outputs": [],
   "source": [
    "chi_func(df,'housing','y')"
   ]
  },
  {
   "cell_type": "code",
   "execution_count": null,
   "metadata": {
    "id": "qWAvt9uGXpaL"
   },
   "outputs": [],
   "source": [
    "df.drop(columns=['housing'],inplace=True)"
   ]
  },
  {
   "cell_type": "markdown",
   "metadata": {
    "id": "giyvhYT9R2Ev"
   },
   "source": [
    "### *Contact*"
   ]
  },
  {
   "cell_type": "code",
   "execution_count": null,
   "metadata": {
    "colab": {
     "base_uri": "https://localhost:8080/",
     "height": 143
    },
    "id": "cAQonWYZLW4n",
    "outputId": "6aa84b89-1843-45e0-e1c5-c9417bab5e5c"
   },
   "outputs": [],
   "source": [
    "generate_groupwise_probability(df,'contact','y')"
   ]
  },
  {
   "cell_type": "code",
   "execution_count": null,
   "metadata": {
    "id": "q5_4JuUI6qEJ"
   },
   "outputs": [],
   "source": [
    "contact_counts=(df[df['y']=='yes'].contact.value_counts())"
   ]
  },
  {
   "cell_type": "code",
   "execution_count": null,
   "metadata": {
    "colab": {
     "base_uri": "https://localhost:8080/",
     "height": 406
    },
    "id": "tvD8hG1c6VIm",
    "outputId": "29bfaced-92bc-49e5-ac04-dda6a66db8bd"
   },
   "outputs": [],
   "source": [
    "plt.figure(figsize=(8,6))\n",
    "plt.bar(contact_counts.keys(),contact_counts.values,color='palevioletred')\n",
    "plt.title('Number of contacts that subscribed', fontsize=15,fontweight=\"bold\")\n",
    "plt.xlabel('Contact',fontweight=\"bold\")\n",
    "plt.ylabel('Frequency',fontweight=\"bold\")\n",
    "plt.show()"
   ]
  },
  {
   "cell_type": "markdown",
   "metadata": {
    "id": "6IaNO1Cj2cjI"
   },
   "source": [
    "From the plot we can see that people with contact as cellular subscribed more as compared to the people who had telephone as their contact source."
   ]
  },
  {
   "cell_type": "markdown",
   "metadata": {
    "id": "casXIbPpSHCH"
   },
   "source": [
    "### *Month*"
   ]
  },
  {
   "cell_type": "code",
   "execution_count": null,
   "metadata": {
    "colab": {
     "base_uri": "https://localhost:8080/",
     "height": 394
    },
    "id": "7cFXy7vJR5F9",
    "outputId": "11c3c27c-313c-4fad-aac9-82f731dc3b73"
   },
   "outputs": [],
   "source": [
    "generate_groupwise_probability(df,'month','y')"
   ]
  },
  {
   "cell_type": "code",
   "execution_count": null,
   "metadata": {
    "colab": {
     "base_uri": "https://localhost:8080/",
     "height": 484
    },
    "id": "c-boAblVCTSW",
    "outputId": "bc854c48-153b-402c-cab0-2745c3e0ebb6"
   },
   "outputs": [],
   "source": [
    "plt.figure(figsize=(12,8))\n",
    "month_wise_data=df[df['y']=='yes'].month.value_counts()\n",
    "plt.pie(month_wise_data, labels = month_wise_data.index.tolist(),colors =sns.color_palette('pastel'), autopct='%.2f%%')\n",
    "plt.title('Pie chart showing the percentage of subscribers for every month', fontsize=15,fontweight=\"bold\")\n",
    "plt.show()\n",
    "plt.show() \n"
   ]
  },
  {
   "cell_type": "markdown",
   "metadata": {
    "id": "13CFaNm8252E"
   },
   "source": [
    "The above pie chart depicts that in the month of May most clients had subscribed. This was closely followed by the month of July and August. It shows that contacting clients in these months would be profitable."
   ]
  },
  {
   "cell_type": "markdown",
   "metadata": {
    "id": "j-9lnsNfSJ1A"
   },
   "source": [
    "### *Day of week*\n"
   ]
  },
  {
   "cell_type": "code",
   "execution_count": null,
   "metadata": {
    "colab": {
     "base_uri": "https://localhost:8080/",
     "height": 237
    },
    "id": "KwSrrZvCSOHx",
    "outputId": "384a6325-8d99-4aa1-efe3-3d3f54b3e1c1"
   },
   "outputs": [],
   "source": [
    "generate_groupwise_probability(df,'day_of_week','y')"
   ]
  },
  {
   "cell_type": "code",
   "execution_count": null,
   "metadata": {
    "colab": {
     "base_uri": "https://localhost:8080/"
    },
    "id": "pSUw_XGkSJBw",
    "outputId": "0f067b9a-b2d2-43d8-94e1-725de2078615"
   },
   "outputs": [],
   "source": [
    "chi_func(df,'day_of_week','y')"
   ]
  },
  {
   "cell_type": "markdown",
   "metadata": {
    "id": "_5FGu7DS3Pg-"
   },
   "source": [
    "**The** p value seems to be statistically insignificant,thus we can drop this feature."
   ]
  },
  {
   "cell_type": "code",
   "execution_count": null,
   "metadata": {
    "id": "his_eFM4XvTp"
   },
   "outputs": [],
   "source": [
    "df.drop(columns=['day_of_week'],inplace=True)"
   ]
  },
  {
   "cell_type": "markdown",
   "metadata": {
    "id": "u66MPf2zoejr"
   },
   "source": [
    "### *pdays* "
   ]
  },
  {
   "cell_type": "markdown",
   "metadata": {
    "id": "v_p5mSH53aL8"
   },
   "source": [
    "For pdays, 999 means client was not previously contacted, so we convert all the pdays less than 999 as 1 and rest as 0. "
   ]
  },
  {
   "cell_type": "code",
   "execution_count": null,
   "metadata": {
    "id": "TU2YZWqWNcMh"
   },
   "outputs": [],
   "source": [
    "df.loc[df[\"pdays\"] < 999, \"pdays\"] = 1\n",
    "df.loc[df[\"pdays\"] == 999, \"pdays\"] = 0"
   ]
  },
  {
   "cell_type": "code",
   "execution_count": null,
   "metadata": {
    "colab": {
     "base_uri": "https://localhost:8080/",
     "height": 143
    },
    "id": "7rdNmbFxoQhg",
    "outputId": "a1260e33-db34-4624-fb49-4bbfd94e2dda"
   },
   "outputs": [],
   "source": [
    "generate_groupwise_probability(df,'pdays','y')"
   ]
  },
  {
   "cell_type": "markdown",
   "metadata": {
    "id": "R9qVvk3oohVQ"
   },
   "source": [
    "### *Previous*"
   ]
  },
  {
   "cell_type": "code",
   "execution_count": null,
   "metadata": {
    "id": "ue6Fui9eojbB"
   },
   "outputs": [],
   "source": [
    "df.loc[df[\"previous\"] >= 2, \"previous\"] =2"
   ]
  },
  {
   "cell_type": "code",
   "execution_count": null,
   "metadata": {
    "colab": {
     "base_uri": "https://localhost:8080/",
     "height": 175
    },
    "id": "68rEd1BOojfR",
    "outputId": "89e8da64-4d80-4c5f-a7f5-cf4bb7f34e17"
   },
   "outputs": [],
   "source": [
    "generate_groupwise_probability(df,'previous','y')"
   ]
  },
  {
   "cell_type": "markdown",
   "metadata": {
    "id": "HydT73jq8ID4"
   },
   "source": [
    "As previous indicates number of contacts performed before the current campaign and for the current client, so we convert all previous contacts more than 2 to 2.Such clients who were contacted more than twice in the previous campign are more likely to subscribe to a term deposit."
   ]
  },
  {
   "cell_type": "markdown",
   "metadata": {
    "id": "TGZDCYoqojrO"
   },
   "source": [
    "### *Poutcome*"
   ]
  },
  {
   "cell_type": "code",
   "execution_count": null,
   "metadata": {
    "colab": {
     "base_uri": "https://localhost:8080/",
     "height": 175
    },
    "id": "jbzMZQgSojh-",
    "outputId": "44a9a6c4-7556-40c3-b25d-f29394f9e373"
   },
   "outputs": [],
   "source": [
    "generate_groupwise_probability(df,'poutcome','y')"
   ]
  },
  {
   "cell_type": "markdown",
   "metadata": {
    "id": "4rmnwdxL_MZg"
   },
   "source": [
    "As poutcome indicates success or failure in the previous campaign, it tells us that success in the previous campaign means these clients are likely to subscribe again.\n",
    "\n"
   ]
  },
  {
   "cell_type": "markdown",
   "metadata": {
    "id": "1AE2HQE8WAzE"
   },
   "source": [
    "## euribor3m"
   ]
  },
  {
   "cell_type": "code",
   "execution_count": null,
   "metadata": {
    "colab": {
     "base_uri": "https://localhost:8080/",
     "height": 655
    },
    "id": "0DiQZedYRf7q",
    "outputId": "1e90ee10-fd4f-4169-db88-9b18f0b93ee3"
   },
   "outputs": [],
   "source": [
    "plt.figure(figsize=(10,10))\n",
    "sns.heatmap(df.corr(), annot=True)\n",
    "plt.show()"
   ]
  },
  {
   "cell_type": "markdown",
   "metadata": {
    "id": "flpaX7zrW3OE"
   },
   "source": [
    "Since euribor3m is strongly correlated with emp.var.rate and nr.employed we will remove this feature from future analysis.\n",
    "\n"
   ]
  },
  {
   "cell_type": "code",
   "execution_count": null,
   "metadata": {
    "id": "LFSQjbsvXFP2"
   },
   "outputs": [],
   "source": [
    "df.drop(columns=['euribor3m'],inplace=True)"
   ]
  },
  {
   "cell_type": "code",
   "execution_count": null,
   "metadata": {
    "id": "WNnxstVizDMU"
   },
   "outputs": [],
   "source": [
    "# df[(df['marital']=='unknown')&(df['job']=='unknown')(df['education']=='unknown')&(df['loan']=='unknown')].dropna()"
   ]
  },
  {
   "cell_type": "markdown",
   "metadata": {
    "id": "V4OuOI46tpxT"
   },
   "source": [
    "# Pairplots for numeric features\n"
   ]
  },
  {
   "cell_type": "code",
   "execution_count": null,
   "metadata": {
    "colab": {
     "base_uri": "https://localhost:8080/",
     "height": 1000
    },
    "id": "h4qAnkz_pHQQ",
    "outputId": "feab3589-e02d-487c-ea42-737dcd15b8d0"
   },
   "outputs": [],
   "source": [
    "sns.pairplot(df.loc[:,['age', 'campaign', 'emp.var.rate','cons.price.idx', 'cons.conf.idx', 'nr.employed','y']],hue=\"y\", palette='husl')#, diag_kind='hist'\n",
    "plt.show()"
   ]
  },
  {
   "cell_type": "markdown",
   "metadata": {
    "id": "z2-5cnUcc3xy"
   },
   "source": [
    "# **Split for Train and Test**"
   ]
  },
  {
   "cell_type": "code",
   "execution_count": null,
   "metadata": {
    "id": "1427c7zElOIq"
   },
   "outputs": [],
   "source": [
    "def split_train_test_data(X,y,train_data_size):\n",
    "    '''\n",
    "    Function to split train and test data in a stratified way\n",
    "    \n",
    "    Parameters:\n",
    "    X- features\n",
    "    y- target label\n",
    "    train_data_size- percentage of train data needed\n",
    "\n",
    "    Return:\n",
    "    Split of train and test data for both features and target label\n",
    "    '''\n",
    "    X_train, X_test, y_train, y_test = train_test_split(X, y, train_size=train_data_size, \n",
    "                                                        stratify=y,random_state=42, shuffle=True)\n",
    "    return X_train, X_test, y_train, y_test"
   ]
  },
  {
   "cell_type": "code",
   "execution_count": null,
   "metadata": {
    "id": "mtbhC0SzYp3S"
   },
   "outputs": [],
   "source": [
    "X=df.loc[:, df.columns != 'y']\n",
    "y=df.loc[:,'y']\n",
    "X_train, X_test, y_train, y_test=split_train_test_data(X,y,train_data_size=0.80)"
   ]
  },
  {
   "cell_type": "code",
   "execution_count": null,
   "metadata": {
    "colab": {
     "base_uri": "https://localhost:8080/",
     "height": 270
    },
    "id": "_uTh-0PMW451",
    "outputId": "616d7e68-5195-44dd-9c64-21c1a24b4994"
   },
   "outputs": [],
   "source": [
    "X_train.head()"
   ]
  },
  {
   "cell_type": "markdown",
   "metadata": {
    "id": "wIfFArnDt0jX"
   },
   "source": [
    "## Predictive Power Score for features"
   ]
  },
  {
   "cell_type": "code",
   "execution_count": null,
   "metadata": {
    "id": "NyCU81miI29q"
   },
   "outputs": [],
   "source": [
    "def generate_ppscore(df):\n",
    "    '''\n",
    "    Function to generate predictive power score\n",
    "    \n",
    "    Parameters:\n",
    "    df- dataframe\n",
    "\n",
    "    Return:\n",
    "    print predicitve power score wrt target label\n",
    "\n",
    "    '''\n",
    "    table_header=[\"Feature\",\"Predictive Power Score\"]\n",
    "    score_lst=[]\n",
    "    pps_score=[]\n",
    "    keys = ['x', 'ppscore']\n",
    "    columns=df.columns.to_list()\n",
    "    columns.remove('y')\n",
    "    for c in columns:\n",
    "        score_dict=pps.score(df,c, \"y\")\n",
    "        values = [score_dict[key] for key in keys]\n",
    "        score_lst.append(values)\n",
    "    for x,y in score_lst:\n",
    "        pps_score.append([x,round(y,2)])\n",
    "    print(tabulate(pps_score,headers=table_header,tablefmt='grid'))"
   ]
  },
  {
   "cell_type": "code",
   "execution_count": null,
   "metadata": {
    "colab": {
     "base_uri": "https://localhost:8080/"
    },
    "id": "G3w70hFARW7c",
    "outputId": "dcbc1068-2aa1-426b-a56a-41688dbde283"
   },
   "outputs": [],
   "source": [
    "generate_ppscore(df)"
   ]
  },
  {
   "cell_type": "markdown",
   "metadata": {
    "id": "JvyDYVyGZraH"
   },
   "source": [
    "# **Data Imputation**"
   ]
  },
  {
   "cell_type": "markdown",
   "metadata": {
    "id": "iC3qxZVH_-aV"
   },
   "source": [
    "Data Imputation is a method to replace missing data present in the dataset by replacing it. We will use a machine learning algorithm-KNN to perform data imputation."
   ]
  },
  {
   "cell_type": "code",
   "execution_count": null,
   "metadata": {
    "id": "pWnfXha-Wq4D"
   },
   "outputs": [],
   "source": [
    "numeric_features=['age', 'campaign', 'emp.var.rate','cons.price.idx', 'cons.conf.idx', 'nr.employed']\n",
    "categoric_features=['job', 'marital','education','loan','contact',\n",
    "                    'month', 'pdays', 'previous', 'poutcome']"
   ]
  },
  {
   "cell_type": "markdown",
   "metadata": {
    "id": "LzJl4i43lIKs"
   },
   "source": [
    "### KNN"
   ]
  },
  {
   "cell_type": "code",
   "execution_count": null,
   "metadata": {
    "id": "d135XsF1wUet"
   },
   "outputs": [],
   "source": [
    "def knn_data_imputation_train(df,feat_list,target):\n",
    "    '''\n",
    "    Function to find the unknowns in the dataset\n",
    "    \n",
    "    Parameters:\n",
    "    df- dataframe\n",
    "    feat_list- list of features to use for finding the 'unknowns' in the target feature\n",
    "    target- target feature\n",
    "\n",
    "    Return:\n",
    "    best_knn- trained knn model\n",
    "    df-updated dataframe after predicting the unknown for the target variable\n",
    "\n",
    "    '''\n",
    "    features_list=feat_list.copy()\n",
    "    features_list.append(target)\n",
    "    sub_df=df[features_list]\n",
    "    train=sub_df.loc[(df[target] != 'unknown')]\n",
    "    test=sub_df.loc[(df[target] == 'unknown')]\n",
    "    X=train.loc[:, train.columns != target]\n",
    "    y=train[[target]]\n",
    "\n",
    "    X_test=test.loc[:, test.columns != target]\n",
    "    y_test=test[[target]]\n",
    "    error_rate = []\n",
    "    encoder = OrdinalEncoder()\n",
    "    y=encoder.fit_transform(y)\n",
    "    X_train, X_val, y_train, y_val = train_test_split(X, y, test_size=0.10, stratify=y,random_state=42, shuffle=True)\n",
    "    indices=y_test.index\n",
    "    for i in range(1,20):\n",
    "        knn = KNeighborsClassifier(n_neighbors=i)\n",
    "        knn.fit(X_train,y_train)\n",
    "        pred_y =knn.predict(X_val)\n",
    "        error_rate.append(np.mean(pred_y != y_val))\n",
    "    min_err=min(error_rate)\n",
    "    optimal_k=error_rate.index(min_err)\n",
    "    print(\"Minimum error:\",min_err.round(2),\"at K =\",optimal_k)\n",
    "    best_knn = KNeighborsClassifier(n_neighbors=optimal_k)\n",
    "    best_knn.fit(X,encoder.inverse_transform(y))\n",
    "    y_hat = best_knn.predict(X_test)\n",
    "    updated_test=test.copy()\n",
    "    df.loc[indices,target] = y_hat\n",
    "    return best_knn,df"
   ]
  },
  {
   "cell_type": "code",
   "execution_count": null,
   "metadata": {
    "id": "oDAd1snConHz"
   },
   "outputs": [],
   "source": [
    "def predict_data_impute(model,X_test,target,feat_list):\n",
    "    '''\n",
    "    Function to find the unknowns in the test set by using the trained model\n",
    "    \n",
    "    Parameters:\n",
    "    model- trained model\n",
    "    X_test- dataframe\n",
    "    target- target feature\n",
    "    feat_list- list of features to use for finding the 'unknowns' in the target feature\n",
    "\n",
    "    Return:\n",
    "    X_test-updated dataframe after predicting the unknown for the target variable\n",
    "    '''\n",
    "    features_list=feat_list.copy()\n",
    "    features_list.append(target)\n",
    "    sub_df=X_test[features_list]\n",
    "    testing_set=sub_df.loc[(X_test[target] == 'unknown')]\n",
    "    indices=testing_set.index\n",
    "    y_hat = model.predict(testing_set.loc[:, testing_set.columns != target])\n",
    "    X_test.loc[indices,target] = y_hat\n",
    "    return X_test"
   ]
  },
  {
   "cell_type": "code",
   "execution_count": null,
   "metadata": {
    "colab": {
     "base_uri": "https://localhost:8080/"
    },
    "id": "Jeed5eDXpW4a",
    "outputId": "7ef21c82-c80b-4b14-a022-ee9cd614efb8"
   },
   "outputs": [],
   "source": [
    "# predict unknown category for marital\n",
    "impute_knn_model,X_train_final=knn_data_imputation_train(X_train,numeric_features,'marital')\n",
    "X_test_final=predict_data_impute(impute_knn_model,X_test,'marital',numeric_features)"
   ]
  },
  {
   "cell_type": "code",
   "execution_count": null,
   "metadata": {
    "colab": {
     "base_uri": "https://localhost:8080/"
    },
    "id": "C9H7lhcFORNP",
    "outputId": "54b123e5-f747-4231-a938-cdd307c7e60e"
   },
   "outputs": [],
   "source": [
    "# predict unknown category for job\n",
    "impute_knn_model,X_train_final=knn_data_imputation_train(X_train,numeric_features,'job')\n",
    "X_test_final=predict_data_impute(impute_knn_model,X_test,'job',numeric_features)"
   ]
  },
  {
   "cell_type": "code",
   "execution_count": null,
   "metadata": {
    "colab": {
     "base_uri": "https://localhost:8080/"
    },
    "id": "MnjwLQHESMuY",
    "outputId": "7fcff746-a834-41f8-8ec1-1beb090048a3"
   },
   "outputs": [],
   "source": [
    "# predict unknown category for education\n",
    "impute_knn_model,X_train_final=knn_data_imputation_train(X_train,numeric_features,'education')\n",
    "X_test_final=predict_data_impute(impute_knn_model,X_test,'education',numeric_features)"
   ]
  },
  {
   "cell_type": "code",
   "execution_count": null,
   "metadata": {
    "colab": {
     "base_uri": "https://localhost:8080/"
    },
    "id": "oYFToJJRSMw0",
    "outputId": "660263dd-6c58-45ba-c925-587fc178f904"
   },
   "outputs": [],
   "source": [
    "# predict unknown category for loan\n",
    "impute_knn_model,X_train_final=knn_data_imputation_train(X_train,numeric_features,'loan')\n",
    "X_test_final=predict_data_impute(impute_knn_model,X_test,'loan',numeric_features)"
   ]
  },
  {
   "cell_type": "code",
   "execution_count": null,
   "metadata": {
    "colab": {
     "base_uri": "https://localhost:8080/"
    },
    "id": "1Rd8ZuqDWsZP",
    "outputId": "1080d285-7915-4501-8432-f516d9fa0be1"
   },
   "outputs": [],
   "source": [
    "X_train_final.marital.unique()"
   ]
  },
  {
   "cell_type": "code",
   "execution_count": null,
   "metadata": {
    "colab": {
     "base_uri": "https://localhost:8080/",
     "height": 287
    },
    "id": "RBdeekb8zb18",
    "outputId": "6c0a2fbc-9fdb-454f-955e-d9c15ca56928"
   },
   "outputs": [],
   "source": [
    "X_test_final.head()"
   ]
  },
  {
   "cell_type": "code",
   "execution_count": null,
   "metadata": {
    "colab": {
     "base_uri": "https://localhost:8080/"
    },
    "id": "UtRTloLKRrAf",
    "outputId": "d4be3610-41b7-4001-f106-990dd380ece7"
   },
   "outputs": [],
   "source": [
    "y_train.head()"
   ]
  },
  {
   "cell_type": "markdown",
   "metadata": {
    "id": "tZ4q6VH9WSfP"
   },
   "source": [
    "# **Encoding categorical variables**"
   ]
  },
  {
   "cell_type": "markdown",
   "metadata": {
    "id": "x7MtOtlhV6ol"
   },
   "source": [
    "###### Month"
   ]
  },
  {
   "cell_type": "code",
   "execution_count": null,
   "metadata": {
    "id": "92vijUB4S327"
   },
   "outputs": [],
   "source": [
    "def month_encoding(df):\n",
    "    '''\n",
    "    Function to encode the months\n",
    "    \n",
    "    Parameters:\n",
    "    df- dataframe\n",
    "\n",
    "    Return:\n",
    "    df-updated dataframe after encoding months\n",
    "    '''\n",
    "    df['month'] = df['month'].str.capitalize()\n",
    "    df['month'] = pd.to_datetime(df.month, format='%b').dt.month.astype(int)\n",
    "    return df"
   ]
  },
  {
   "cell_type": "code",
   "execution_count": null,
   "metadata": {
    "id": "4Ma81pU4bCBK"
   },
   "outputs": [],
   "source": [
    "X_train_final=month_encoding(X_train_final)\n",
    "X_test_final=month_encoding(X_test_final)"
   ]
  },
  {
   "cell_type": "markdown",
   "metadata": {
    "id": "Jwl6HRicV9vg"
   },
   "source": [
    "###### Marital, Job, Education and Poutcome"
   ]
  },
  {
   "cell_type": "code",
   "execution_count": null,
   "metadata": {
    "id": "ApMkzjBVparT"
   },
   "outputs": [],
   "source": [
    "def frequency_encoding(dataf,feature,test_df):\n",
    "    '''\n",
    "    Function to frequency encode a feature\n",
    "    \n",
    "    Parameters:\n",
    "    dataf- dataframe\n",
    "    feature- feature to frequency encode\n",
    "    test_df- test df \n",
    "\n",
    "    Return:\n",
    "    updated_df- updated train dataframe after frequency encoding the feature column\n",
    "    testing_df- updated test dataframe after frequency encoding the feature column\n",
    "    '''\n",
    "    encoded_series = ((dataf.groupby(feature).size()) / len(dataf)).round(4)\n",
    "    updated_df=dataf.copy()\n",
    "    updated_df[feature] = updated_df[feature].apply(lambda x : encoded_series[x])\n",
    "    testing_df=test_df.copy()\n",
    "    testing_df[feature] = testing_df[feature].apply(lambda x : encoded_series[x])\n",
    "    return updated_df,testing_df"
   ]
  },
  {
   "cell_type": "code",
   "execution_count": null,
   "metadata": {
    "id": "Fc2OwYbuYIKC"
   },
   "outputs": [],
   "source": [
    "X_train_final,X_test_final=frequency_encoding(X_train_final,'marital',X_test_final)\n",
    "X_train_final,X_test_final=frequency_encoding(X_train_final,'job',X_test_final)\n",
    "X_train_final,X_test_final=frequency_encoding(X_train_final,'education',X_test_final)\n",
    "X_train_final,X_test_final=frequency_encoding(X_train_final,'poutcome',X_test_final)"
   ]
  },
  {
   "cell_type": "code",
   "execution_count": null,
   "metadata": {
    "colab": {
     "base_uri": "https://localhost:8080/",
     "height": 270
    },
    "id": "YQyG4LjpYIMu",
    "outputId": "5446d067-90da-4a12-e76d-96e03b47273d"
   },
   "outputs": [],
   "source": [
    "X_train_final.head()"
   ]
  },
  {
   "cell_type": "code",
   "execution_count": null,
   "metadata": {
    "id": "fUNZTSmmzP-p"
   },
   "outputs": [],
   "source": [
    "def mapping(dataf,feature,map_dict):\n",
    "    '''\n",
    "    Function to map the labels of a feature\n",
    "    \n",
    "    Parameters:\n",
    "    dataf- dataframe\n",
    "    feature- feature to frequency encode\n",
    "    map_dict- dictionary to be used for mapping\n",
    "\n",
    "    Return:\n",
    "    dataf- updated dataframe after mapping labels\n",
    "    '''\n",
    "    dataf[feature] = dataf[feature].map(map_dict)\n",
    "    return dataf"
   ]
  },
  {
   "cell_type": "markdown",
   "metadata": {
    "id": "_xcs4MptqA7b"
   },
   "source": [
    "###### Mapping categorical features like loan and contact"
   ]
  },
  {
   "cell_type": "code",
   "execution_count": null,
   "metadata": {
    "id": "J2hQWU4DqsuR"
   },
   "outputs": [],
   "source": [
    "X_train_final=mapping(X_train_final,'loan',{'yes': 1, 'no': 0})\n",
    "X_test_final=mapping(X_test_final,'loan',{'yes': 1, 'no': 0})"
   ]
  },
  {
   "cell_type": "code",
   "execution_count": null,
   "metadata": {
    "id": "y8fcdVi8mI1F"
   },
   "outputs": [],
   "source": [
    "X_train_final=mapping(X_train_final,'contact',{'telephone': 1, 'cellular': 0})\n",
    "X_test_final=mapping(X_test_final,'contact',{'telephone': 1, 'cellular': 0})"
   ]
  },
  {
   "cell_type": "code",
   "execution_count": null,
   "metadata": {
    "id": "ylYAMqeydK9V"
   },
   "outputs": [],
   "source": [
    "y_train=y_train.map({'yes': 1, 'no': 0})\n",
    "y_test=y_test.map({'yes': 1, 'no': 0})"
   ]
  },
  {
   "cell_type": "code",
   "execution_count": null,
   "metadata": {
    "id": "rzcSY368h7AC"
   },
   "outputs": [],
   "source": [
    "X_train_final.reset_index(drop=True, inplace=True)\n",
    "X_test_final.reset_index(drop=True, inplace=True)"
   ]
  },
  {
   "cell_type": "code",
   "execution_count": null,
   "metadata": {
    "colab": {
     "base_uri": "https://localhost:8080/",
     "height": 270
    },
    "id": "-kUuP7Y7wpIT",
    "outputId": "621840a5-881b-4bab-9cfc-1636bd767e5f"
   },
   "outputs": [],
   "source": [
    "X_train_final.head()"
   ]
  },
  {
   "cell_type": "markdown",
   "metadata": {
    "id": "Ek_KPLlvPWv6"
   },
   "source": [
    "# **Normalization**"
   ]
  },
  {
   "cell_type": "code",
   "execution_count": null,
   "metadata": {
    "id": "_2sGK6wfecvA"
   },
   "outputs": [],
   "source": [
    "def normalization(X_train_num,X_test_num):\n",
    "    '''\n",
    "    Function to normalize the numerical features of the train and test set using min max scaler\n",
    "    \n",
    "    Parameters:\n",
    "    X_train_num- dataframe\n",
    "    X_test_num- feature to frequency encode\n",
    "    map_dict- dictionary to be used for mapping\n",
    "\n",
    "    Return:\n",
    "    X_train_num_norm- updated train dataframe after normalizing the numerical features\n",
    "    X_test_num_norm- updated test dataframe after normalizing the numerical features\n",
    "    '''\n",
    "    scaler = MinMaxScaler()\n",
    "    X_train_num_norm = pd.DataFrame(scaler.fit_transform(X_train_num).round(4), \n",
    "                                      index=X_train_num.index, \n",
    "                                      columns=X_train_num.columns)\n",
    "    \n",
    "    X_test_num_norm=pd.DataFrame(scaler.transform(X_test_num).round(4), \n",
    "                                      index=X_test_num.index, \n",
    "                                      columns=X_test_num.columns)\n",
    "    return X_train_num_norm,X_test_num_norm"
   ]
  },
  {
   "cell_type": "code",
   "execution_count": null,
   "metadata": {
    "id": "fRQATdpTeT1F"
   },
   "outputs": [],
   "source": [
    "X_train_num_norm,X_test_num_norm=normalization(X_train_final[numeric_features],X_test_final[numeric_features])"
   ]
  },
  {
   "cell_type": "code",
   "execution_count": null,
   "metadata": {
    "id": "Z-uQc12XlOMj"
   },
   "outputs": [],
   "source": [
    "X_train_final=X_train_num_norm.join(X_train_final[categoric_features])\n",
    "X_test_final=X_test_num_norm.join(X_test_final[categoric_features])"
   ]
  },
  {
   "cell_type": "code",
   "execution_count": null,
   "metadata": {
    "colab": {
     "base_uri": "https://localhost:8080/",
     "height": 270
    },
    "id": "ktI2hqA1Xbzr",
    "outputId": "57c2bdce-4e2b-46c4-c1ca-a4e7f4cb0bfb"
   },
   "outputs": [],
   "source": [
    "X_train_final.head()"
   ]
  },
  {
   "cell_type": "markdown",
   "metadata": {
    "id": "9xkNk7QhfT1s"
   },
   "source": [
    "## **New Features**"
   ]
  },
  {
   "cell_type": "code",
   "execution_count": null,
   "metadata": {
    "id": "ANQNcksNQUAN"
   },
   "outputs": [],
   "source": [
    "# def generate_avg_features(train,test,feature,avg_over_feature,new_feature):\n",
    "#     avg_feature=train.groupby(feature,as_index=False)[avg_over_feature].mean().round(2)\n",
    "#     mapping_dict=dict(avg_feature.values)\n",
    "#     new_train_column= train[feature].map(mapping_dict)\n",
    "#     train.insert(loc =train.columns.get_loc(avg_over_feature),column = new_feature,value = new_train_column)\n",
    "#     train.drop(columns=[avg_over_feature],inplace=True)\n",
    "#     new_test_column=test[feature].map(mapping_dict)\n",
    "#     test.insert(1,column = new_feature,value = new_test_column)\n",
    "#     # test.drop(columns=[avg_over_feature],inplace=True)\n",
    "#     return train,test#loc =test.columns.get_loc(avg_over_feature)"
   ]
  },
  {
   "cell_type": "markdown",
   "metadata": {
    "id": "c5sqK3eOSWsu"
   },
   "source": [
    "### Avg age per job"
   ]
  },
  {
   "cell_type": "code",
   "execution_count": null,
   "metadata": {
    "id": "2Tsf2pudRAZD"
   },
   "outputs": [],
   "source": [
    "# X_train_final,X_test_final=generate_avg_features(X_train_final,X_test_final,'job','age','avg_age_per_job')"
   ]
  },
  {
   "cell_type": "code",
   "execution_count": null,
   "metadata": {
    "id": "F0eIuSBTZdTy"
   },
   "outputs": [],
   "source": [
    "# X_train_final.head()"
   ]
  },
  {
   "cell_type": "markdown",
   "metadata": {
    "id": "Hpg1DG0DSZ4U"
   },
   "source": [
    "### Avg campaign per month"
   ]
  },
  {
   "cell_type": "code",
   "execution_count": null,
   "metadata": {
    "id": "Z5CrAnK_STjU"
   },
   "outputs": [],
   "source": [
    "# X_train_final,X_test_final=generate_avg_features(X_train_final,X_test_final,'month','campaign','avg_campaign_per_month')"
   ]
  },
  {
   "cell_type": "code",
   "execution_count": null,
   "metadata": {
    "id": "5r4LYduiSdl2"
   },
   "outputs": [],
   "source": [
    "# X_train_final.head()"
   ]
  },
  {
   "cell_type": "code",
   "execution_count": null,
   "metadata": {
    "id": "57xjU8OTFxxE"
   },
   "outputs": [],
   "source": [
    "# type(y_train)"
   ]
  },
  {
   "cell_type": "markdown",
   "metadata": {
    "id": "NNPGLYdzxfWA"
   },
   "source": [
    "# **Undersampling**"
   ]
  },
  {
   "cell_type": "code",
   "execution_count": null,
   "metadata": {
    "colab": {
     "base_uri": "https://localhost:8080/"
    },
    "id": "bcpYfK8HxesE",
    "outputId": "516ea1c6-92f5-4216-e342-4e29c450f37d"
   },
   "outputs": [],
   "source": [
    "renn = RepeatedEditedNearestNeighbours()\n",
    "X_train_final, y_train=renn.fit_resample(X_train_final, y_train)\n",
    "counter=Counter(y_train)\n",
    "print('Distribution of classes for training set')\n",
    "print(counter)"
   ]
  },
  {
   "cell_type": "code",
   "execution_count": null,
   "metadata": {
    "id": "le2a0D5JCPKl"
   },
   "outputs": [],
   "source": [
    "col_names=numeric_features+categoric_features\n",
    "X_train_final=X_train_final[col_names]\n",
    "X_test_final=X_test_final[col_names]"
   ]
  },
  {
   "cell_type": "markdown",
   "metadata": {
    "id": "t7JCVinb-nIf"
   },
   "source": [
    "# **Feature Reduction**"
   ]
  },
  {
   "cell_type": "markdown",
   "metadata": {
    "id": "2QgNWcb6sAi7"
   },
   "source": [
    "## PCA"
   ]
  },
  {
   "cell_type": "code",
   "execution_count": null,
   "metadata": {
    "id": "zEZ5I6KhpY99"
   },
   "outputs": [],
   "source": [
    "def pca_analysis(X,y):\n",
    "    '''\n",
    "    Function to perform feature analysis using PCA\n",
    "    \n",
    "    Parameters:\n",
    "    df:input data frame\n",
    "\n",
    "    Return:\n",
    "    Plot of feature analysis using PCA\n",
    "    '''\n",
    "    pca = PCA(n_components=15)\n",
    "    pca.fit(X,y)\n",
    "    variance_ratio = pca.explained_variance_ratio_    \n",
    "    n_components = np.arange(pca.n_components_) + 1\n",
    "    plt.figure(figsize=(8,8))\n",
    "    plt.plot(n_components, pca.explained_variance_ratio_.cumsum(), 'o-', linewidth=2, color='teal')\n",
    "    plt.xlabel('Features (principal components)')\n",
    "    plt.title(' PCA Plot', fontsize=15,fontweight=\"bold\")\n",
    "    plt.ylabel('Total Variance')"
   ]
  },
  {
   "cell_type": "code",
   "execution_count": null,
   "metadata": {
    "colab": {
     "base_uri": "https://localhost:8080/",
     "height": 515
    },
    "id": "NU56zQGQUCPU",
    "outputId": "5308d080-1c1e-4590-a2a6-6a6810b57bf3"
   },
   "outputs": [],
   "source": [
    "pca_analysis(X_train_final,y_train)"
   ]
  },
  {
   "cell_type": "markdown",
   "metadata": {
    "id": "LcA0_GPfrby3"
   },
   "source": [
    "## SelectKBest"
   ]
  },
  {
   "cell_type": "code",
   "execution_count": null,
   "metadata": {
    "id": "Cuz8fx9ErB1K"
   },
   "outputs": [],
   "source": [
    "select_k_best=SelectKBest(chi2, k=13)\n",
    "X_train_final = select_k_best.fit_transform(X_train_final, y_train)\n",
    "X_test_final=select_k_best.transform(X_test_final)"
   ]
  },
  {
   "cell_type": "code",
   "execution_count": null,
   "metadata": {
    "colab": {
     "base_uri": "https://localhost:8080/"
    },
    "id": "jG8uNM9NDpBg",
    "outputId": "ee041777-9e3a-4e3a-d963-9718d665e953"
   },
   "outputs": [],
   "source": [
    "filter = select_k_best.get_support()\n",
    "filter=filter.tolist()\n",
    "print(\"All features:\")\n",
    "print(col_names)\n",
    "selected_features=list(compress(col_names, filter))\n",
    "print(\"Selected 13 best features:\")\n",
    "print(selected_features)"
   ]
  },
  {
   "cell_type": "markdown",
   "metadata": {
    "id": "NfUuEGWZ6oDm"
   },
   "source": [
    "# Generate Tables for dataset performance on Train and Test "
   ]
  },
  {
   "cell_type": "code",
   "execution_count": null,
   "metadata": {
    "id": "yZYZqzGFXePW"
   },
   "outputs": [],
   "source": [
    "def generate_train_table(row_data):\n",
    "    '''\n",
    "    Function to generate table along with hyperparameters\n",
    "    '''\n",
    "    table_header_train=[\"Algorithm\",\"Optimal Hyperparameters\",\"Specificity\",\"Sensitivity\",\"Accuracy\"]\n",
    "    rows=[]\n",
    "    for lists in row_data:\n",
    "        rows.append(lists)\n",
    "\n",
    "    all_data=rows\n",
    "    print(tabulate(all_data,headers=table_header_train,tablefmt='grid'))"
   ]
  },
  {
   "cell_type": "code",
   "execution_count": null,
   "metadata": {
    "id": "VNJsIY71C4vJ"
   },
   "outputs": [],
   "source": [
    "def generate_test_table(row_data):\n",
    "    '''\n",
    "    Function to generate table\n",
    "    '''\n",
    "    table_header_test=[\"Algorithm\",\"Specificity\",\"Sensitivity\",\"Accuracy\"]\n",
    "    rows=[]\n",
    "    for lists in row_data:\n",
    "        rows.append(lists)\n",
    "\n",
    "    all_data=rows\n",
    "    print(tabulate(all_data,headers=table_header_test,tablefmt='grid'))"
   ]
  },
  {
   "cell_type": "markdown",
   "metadata": {
    "id": "DO2cl0F-8ArZ"
   },
   "source": [
    "# **SUPERVISED LEARNING ALGORITHMS**"
   ]
  },
  {
   "cell_type": "markdown",
   "metadata": {
    "id": "KHVbtQSlbtOY"
   },
   "source": [
    "### *Trivial Model*"
   ]
  },
  {
   "cell_type": "code",
   "execution_count": null,
   "metadata": {
    "id": "miMkxB9QbrWe"
   },
   "outputs": [],
   "source": [
    "trivial_object = Trivial_Model(X_train_final, y_train)"
   ]
  },
  {
   "cell_type": "code",
   "execution_count": null,
   "metadata": {
    "colab": {
     "base_uri": "https://localhost:8080/",
     "height": 388
    },
    "id": "4C8Z-dSOfaEK",
    "outputId": "834b1e17-063e-4aff-c3a4-246b2b2e2336"
   },
   "outputs": [],
   "source": [
    "res_train_trivial,probability_c1=trivial_object.train_trivial('Trivial Model')"
   ]
  },
  {
   "cell_type": "code",
   "execution_count": null,
   "metadata": {
    "colab": {
     "base_uri": "https://localhost:8080/",
     "height": 388
    },
    "id": "9mBgc1tgbrYx",
    "outputId": "5fa75c44-33fc-448a-b11a-2e273f4f5a29"
   },
   "outputs": [],
   "source": [
    "res_test_trivial=trivial_object.test_trivial('Trivial Model',probability_c1,X_test_final,y_test)"
   ]
  },
  {
   "cell_type": "markdown",
   "metadata": {
    "id": "8WIQ4OHBbxza"
   },
   "source": [
    "### *Baseline Model*"
   ]
  },
  {
   "cell_type": "code",
   "execution_count": null,
   "metadata": {
    "id": "dOQeDsggbrnF"
   },
   "outputs": [],
   "source": [
    "baseline_object = Baseline_Model(X_train_final, y_train)"
   ]
  },
  {
   "cell_type": "code",
   "execution_count": null,
   "metadata": {
    "colab": {
     "base_uri": "https://localhost:8080/",
     "height": 388
    },
    "id": "o8ldp72IuGWm",
    "outputId": "3c50062f-67b6-4697-ce69-2457dc3a9a6f"
   },
   "outputs": [],
   "source": [
    "best_baseline_model,res_train_baseline=baseline_object.train_baseline('Baseline Model')"
   ]
  },
  {
   "cell_type": "code",
   "execution_count": null,
   "metadata": {
    "colab": {
     "base_uri": "https://localhost:8080/",
     "height": 388
    },
    "id": "la5DYfe5t6Lw",
    "outputId": "8d6407a0-b0e0-4c68-eb4e-fbf7c17e6fce"
   },
   "outputs": [],
   "source": [
    "res_test_baseline=baseline_object.test_baseline('Baseline Model',best_baseline_model,X_test_final,y_test)"
   ]
  },
  {
   "cell_type": "code",
   "execution_count": null,
   "metadata": {
    "id": "QrgB0NBat7CJ"
   },
   "outputs": [],
   "source": [
    "pickle.dump(best_baseline_model, open('/content/drive/MyDrive/EE_660_Project/SL models/best_baseline_model.pkl', 'wb'))"
   ]
  },
  {
   "cell_type": "markdown",
   "metadata": {
    "id": "dnkkTdE7a4dU"
   },
   "source": [
    "### *Logistic Regression*"
   ]
  },
  {
   "cell_type": "code",
   "execution_count": null,
   "metadata": {
    "id": "twEI1iviHJxb"
   },
   "outputs": [],
   "source": [
    "log_reg_clf = LogisticRegression()\n",
    "log_reg_param_grid = {\n",
    "    'solver': ['newton-cg', 'lbfgs', 'liblinear'],\n",
    "    'C': [ 0.01,0.1, 1.0,10],\n",
    "}\n",
    "log_reg_object = Logisitic_Regression(log_reg_clf,log_reg_param_grid,X_train_final,y_train)"
   ]
  },
  {
   "cell_type": "code",
   "execution_count": null,
   "metadata": {
    "colab": {
     "base_uri": "https://localhost:8080/",
     "height": 527
    },
    "id": "pkhfQQIuHJz2",
    "outputId": "3d0d4f9f-44c4-4126-eb8a-b4cf76a07565"
   },
   "outputs": [],
   "source": [
    "best_log_reg_model,res_train_log_reg=log_reg_object.train_log_reg('Logistic Regression',0.2)"
   ]
  },
  {
   "cell_type": "code",
   "execution_count": null,
   "metadata": {
    "colab": {
     "base_uri": "https://localhost:8080/",
     "height": 388
    },
    "id": "nk-Zf7qC5rhs",
    "outputId": "206e83af-f13e-498f-f493-c4e6dca18c1b"
   },
   "outputs": [],
   "source": [
    "res_test_log_reg=log_reg_object.test_log_reg('Logistic Regression',best_log_reg_model,X_test_final,y_test,0.2)"
   ]
  },
  {
   "cell_type": "code",
   "execution_count": null,
   "metadata": {
    "id": "5Z11_NLvOHnj"
   },
   "outputs": [],
   "source": [
    "pickle.dump(best_log_reg_model, open('/content/drive/MyDrive/EE_660_Project/SL models/best_log_reg_model.pkl', 'wb'))"
   ]
  },
  {
   "cell_type": "markdown",
   "metadata": {
    "id": "KDMxY-u0zUPL"
   },
   "source": [
    "### *Random Forest*"
   ]
  },
  {
   "cell_type": "code",
   "execution_count": null,
   "metadata": {
    "id": "m5Of220Vwl_I"
   },
   "outputs": [],
   "source": [
    "rf_clf = RandomForestClassifier()\n",
    "rf_param_grid = {\n",
    "        'max_depth': [50,60,70],\n",
    "        'min_samples_split': [20,30,40]\n",
    "}\n",
    "rf_object = Random_Forest(rf_clf,rf_param_grid,X_train_final,y_train)"
   ]
  },
  {
   "cell_type": "code",
   "execution_count": null,
   "metadata": {
    "colab": {
     "base_uri": "https://localhost:8080/",
     "height": 388
    },
    "id": "1WJuVs_orv3a",
    "outputId": "75db049f-7836-4ab2-bf5c-011139a0f555"
   },
   "outputs": [],
   "source": [
    "best_rf_model,res_train_rf=rf_object.train_rf('Random Forest Classifier',0.2)"
   ]
  },
  {
   "cell_type": "code",
   "execution_count": null,
   "metadata": {
    "colab": {
     "base_uri": "https://localhost:8080/",
     "height": 388
    },
    "id": "pL5V_Z0-row2",
    "outputId": "e0450bd5-9702-42c9-9a30-63c73d4f690b"
   },
   "outputs": [],
   "source": [
    "# TEST\n",
    "res_test_rf=rf_object.test_rf('Random Forest Classifier',best_rf_model,X_test_final,y_test,0.2)"
   ]
  },
  {
   "cell_type": "code",
   "execution_count": null,
   "metadata": {
    "id": "VgkyIkUHOL6e"
   },
   "outputs": [],
   "source": [
    "pickle.dump(best_rf_model, open('/content/drive/MyDrive/EE_660_Project/SL models/best_rf_model.pkl', 'wb'))"
   ]
  },
  {
   "cell_type": "markdown",
   "metadata": {
    "id": "r0sMMWwv7XPA"
   },
   "source": [
    "### *Support Vector Classifier*"
   ]
  },
  {
   "cell_type": "code",
   "execution_count": null,
   "metadata": {
    "id": "qIE8P7_TGTSK"
   },
   "outputs": [],
   "source": [
    "svc_clf = SVC(probability=True)\n",
    "svc_param_grid = {'C':[0.1,1]  }\n",
    "svc_object = Support_Vector_Classifier(svc_clf,svc_param_grid,X_train_final,y_train)                  "
   ]
  },
  {
   "cell_type": "code",
   "execution_count": null,
   "metadata": {
    "colab": {
     "base_uri": "https://localhost:8080/",
     "height": 388
    },
    "id": "5FTSkt1-uS8x",
    "outputId": "9512bfe5-4d9c-43df-cb34-d43bfa5f7c6e"
   },
   "outputs": [],
   "source": [
    "best_svc_model,res_train_svc=svc_object.train_svc('Support Vector Classifier',0.2)"
   ]
  },
  {
   "cell_type": "code",
   "execution_count": null,
   "metadata": {
    "colab": {
     "base_uri": "https://localhost:8080/",
     "height": 388
    },
    "id": "WeNEYwOqtm9b",
    "outputId": "249b61c7-5a11-4cd2-9375-25331a763ce2"
   },
   "outputs": [],
   "source": [
    "res_test_svc=svc_object.test_svc('Support Vector Classifier',best_svc_model,X_test_final,y_test,0.2)"
   ]
  },
  {
   "cell_type": "code",
   "execution_count": null,
   "metadata": {
    "id": "fYkBRwdEONyj"
   },
   "outputs": [],
   "source": [
    "pickle.dump(best_svc_model, open('/content/drive/MyDrive/EE_660_Project/SL models/best_svc_model.pkl', 'wb'))"
   ]
  },
  {
   "cell_type": "markdown",
   "metadata": {
    "id": "Af6UsWUUuTT4"
   },
   "source": [
    "### *Multi Layer Perceptron*"
   ]
  },
  {
   "cell_type": "code",
   "execution_count": null,
   "metadata": {
    "id": "Y0r5xtUXuS_W"
   },
   "outputs": [],
   "source": [
    "mlp_clf = MLPClassifier(max_iter=100)\n",
    "mlp_param_grid = {\n",
    "     'activation': ['tanh', 'relu'],\n",
    "      'alpha': [0.0001, 0.001],\n",
    "}\n",
    "\n",
    "mlp_object = Multi_Layer_Perceptron(mlp_clf,mlp_param_grid,X_train_final,y_train)  "
   ]
  },
  {
   "cell_type": "code",
   "execution_count": null,
   "metadata": {
    "colab": {
     "base_uri": "https://localhost:8080/",
     "height": 443
    },
    "id": "Q3YB4lB7uTBo",
    "outputId": "f640a141-65b7-4f12-eac9-9c3975a7ce1d"
   },
   "outputs": [],
   "source": [
    "best_mlp_model,res_train_mlp=mlp_object.train_mlp('Multi Layer Perceptron',0.2)"
   ]
  },
  {
   "cell_type": "code",
   "execution_count": null,
   "metadata": {
    "colab": {
     "base_uri": "https://localhost:8080/",
     "height": 388
    },
    "id": "iBY2VIQGuTE9",
    "outputId": "4a39d5b0-0b85-4743-a18b-e689b0e9dd19"
   },
   "outputs": [],
   "source": [
    "res_test_mlp=mlp_object.test_mlp('Multi Layer Perceptron',best_mlp_model,X_test_final,y_test,0.2)"
   ]
  },
  {
   "cell_type": "code",
   "execution_count": null,
   "metadata": {
    "id": "W48ocu9tOiyb"
   },
   "outputs": [],
   "source": [
    "pickle.dump(best_mlp_model, open('/content/drive/MyDrive/EE_660_Project/SL models/best_mlp_model.pkl', 'wb'))"
   ]
  },
  {
   "cell_type": "markdown",
   "metadata": {
    "id": "8gwHYzCnvAKV"
   },
   "source": [
    "### *Decision Tree Classifier*"
   ]
  },
  {
   "cell_type": "code",
   "execution_count": null,
   "metadata": {
    "id": "T5R9iEJivAKW"
   },
   "outputs": [],
   "source": [
    "dec_tree_clf = DecisionTreeClassifier()\n",
    "\n",
    "dec_tree_param_grid = [{'max_depth': [50,60,70],\n",
    "                        'min_samples_leaf': [3, 4, 5]\n",
    "            }]\n",
    "dec_tree_object = Decision_Tree(dec_tree_clf,dec_tree_param_grid,X_train_final,y_train)  "
   ]
  },
  {
   "cell_type": "code",
   "execution_count": null,
   "metadata": {
    "colab": {
     "base_uri": "https://localhost:8080/",
     "height": 388
    },
    "id": "x2yjifY6vAKW",
    "outputId": "927ef800-03d0-4c31-85cf-a758c800a670"
   },
   "outputs": [],
   "source": [
    "best_dec_tree_model,res_train_dec_tree=dec_tree_object.train_dec_tree('Decision Tree Classifier',0.2)"
   ]
  },
  {
   "cell_type": "code",
   "execution_count": null,
   "metadata": {
    "colab": {
     "base_uri": "https://localhost:8080/",
     "height": 388
    },
    "id": "lGJOllPFvAKW",
    "outputId": "b6536c73-5b3c-43c6-c426-e37dccade6cb"
   },
   "outputs": [],
   "source": [
    "res_test_dec_tree=dec_tree_object.test_dec_tree('Decision Tree Classifier',best_dec_tree_model,X_test_final,y_test,0.2)"
   ]
  },
  {
   "cell_type": "code",
   "execution_count": null,
   "metadata": {
    "id": "AaISWq9aOkmf"
   },
   "outputs": [],
   "source": [
    "pickle.dump(best_dec_tree_model, open('/content/drive/MyDrive/EE_660_Project/SL models/best_dec_tree_model.pkl', 'wb'))"
   ]
  },
  {
   "cell_type": "markdown",
   "metadata": {
    "id": "6fvf3Vz7LBDO"
   },
   "source": [
    "## **Supervised Results**"
   ]
  },
  {
   "cell_type": "code",
   "execution_count": null,
   "metadata": {
    "colab": {
     "base_uri": "https://localhost:8080/"
    },
    "id": "2YBf1r6iHJ2e",
    "outputId": "9bda6f88-ac51-42d3-ed72-953785d56d5a"
   },
   "outputs": [],
   "source": [
    "print('Performance of SL Algorithms on Training Data:')\n",
    "\n",
    "sl_train_data=[res_train_trivial,res_train_baseline,res_train_log_reg,res_train_rf,res_train_svc,res_train_mlp,res_train_dec_tree]\n",
    "generate_train_table(sl_train_data)"
   ]
  },
  {
   "cell_type": "code",
   "execution_count": null,
   "metadata": {
    "colab": {
     "base_uri": "https://localhost:8080/"
    },
    "id": "hbaTeuEKKIKz",
    "outputId": "71b8c20a-6d54-4336-99bb-7721f4b84dfd"
   },
   "outputs": [],
   "source": [
    "print('Performance of SL Algorithms on Testing Data:')\n",
    "sl_test_data=[res_test_trivial,res_test_baseline,res_test_log_reg,res_test_rf,res_test_mlp,res_test_dec_tree]\n",
    "generate_test_table(sl_test_data)"
   ]
  },
  {
   "cell_type": "markdown",
   "metadata": {
    "id": "H5GP0cE4clbf"
   },
   "source": [
    "# **SEMI-SUPERVISED LEARNING ALGORITHMS**"
   ]
  },
  {
   "cell_type": "code",
   "execution_count": null,
   "metadata": {
    "id": "nq0-qNqLa647"
   },
   "outputs": [],
   "source": [
    "def generate_ssl_dataset(X_train_final,y_train,train_size):\n",
    "    '''\n",
    "    Function to generate labeled and unlabeled data\n",
    "    \n",
    "    Parameters:\n",
    "    X_train_final- features\n",
    "    y_train- labels\n",
    "    train_size- size of labeled set\n",
    "\n",
    "    Return:\n",
    "    X and y for both labeled and unlabeled dataset \n",
    "    '''\n",
    "    X_lab, X_unlab, y_lab, y_unlab=split_train_test_data(X_train_final,y_train,train_size)\n",
    "    return X_lab, X_unlab, y_lab, y_unlab"
   ]
  },
  {
   "cell_type": "code",
   "execution_count": null,
   "metadata": {
    "id": "aK5QzGTbIMWW"
   },
   "outputs": [],
   "source": [
    "def test_s3vm(name,best_model,X,y):\n",
    "    '''\n",
    "    Function to find the predicted labels on test set given a trained model\n",
    "    \n",
    "    Parameters:\n",
    "    best_model- target label\n",
    "    X_test,y_test- predicted label\n",
    "    threshold- cut off threshold for probability\n",
    "\n",
    "    Return:\n",
    "    List of performance metrics Specificity,Sensitivity,Accuracy scores\n",
    "    '''\n",
    "    y_pred = best_model.getPredictions(X.values.tolist())\n",
    "    y_pred_update = [int(x) for x in y_pred]\n",
    "    for i in range(len(y_pred_update)):\n",
    "        if y_pred_update[i] == -1:\n",
    "            y_pred_update[i] = 0\n",
    "    conf=confusion_matrix(y, y_pred_update, labels = [0, 1])\n",
    "    tn, fp, fn, tp = conf[0][0],conf[0][1],conf[1][0],conf[1][1]\n",
    "    specificity = tn / (tn+fp)\n",
    "    sensitivity=tp/(tp+fn)\n",
    "    acc=accuracy_score(y,y_pred_update)\n",
    "    return [name,specificity,sensitivity,acc]"
   ]
  },
  {
   "cell_type": "code",
   "execution_count": null,
   "metadata": {
    "id": "0mLdR2uP6SEH"
   },
   "outputs": [],
   "source": [
    "def S3VM_function(name,X_train_full, y_train_full):\n",
    "    iht = InstanceHardnessThreshold(random_state=0,\n",
    "                                estimator=LogisticRegression(\n",
    "                                solver='newton-cg', multi_class='auto'))\n",
    "    \n",
    "    X_train_resampled, y_train_resampled = iht.fit_resample(X_train_full, \n",
    "                                                            y_train_full)\n",
    "    \n",
    "    X_lab_resampled, X_unlab_resampled, y_lab_resampled, y_unlab_resampled=split_train_test_data(X_train_resampled,\n",
    "                                                                                                 y_train_resampled,\n",
    "                                                                                                 train_data_size=0.40)\n",
    "    y_lab_ssl = copy.deepcopy(y_lab_resampled)\n",
    "    y_lab_ssl[y_lab_ssl==0]=-1 \n",
    "    s3vm_model = QN_S3VM(X_lab_resampled.tolist(),y_lab_ssl.tolist(),X_unlab_resampled.tolist(),random.Random())\n",
    "    s3vm_model.train()\n",
    "    values= test_s3vm(name,s3vm_model,X,y)  \n",
    "    result_train=[name]+values\n",
    "    \n",
    "    return s3vm_model,result_train\n"
   ]
  },
  {
   "cell_type": "markdown",
   "metadata": {
    "id": "KTqBnhmscpk4"
   },
   "source": [
    "## *Prop 1 Nearest Neighbour, Expectation Maximization, Label Propagation and Semi-Supervised Support Vector Machine (S3VM)*"
   ]
  },
  {
   "cell_type": "code",
   "execution_count": null,
   "metadata": {
    "id": "O3jc_zP5c4A6"
   },
   "outputs": [],
   "source": [
    "def run_ssl_algorithms(X_train_final,y_train,X_test_final,y_test,labeled_size,sl_flag=False):\n",
    "    X_lab, X_unlab, y_lab, y_unlab=generate_ssl_dataset(X_train_final,y_train,train_size=labeled_size)\n",
    "    X_lab_copy, X_unlab_copy, y_lab_copy=copy.deepcopy(X_lab), copy.deepcopy(X_unlab),copy.deepcopy(y_lab)\n",
    "    X_train_numpy = X_train_final.copy()\n",
    "    y_train_numpy=y_train\n",
    "\n",
    "    #1-NN\n",
    "    print('One NN')\n",
    "    one_nn_object = Prop_1NN(X_lab_copy, y_lab_copy, X_unlab_copy)\n",
    "    one_nn_model,res_train_1nn=one_nn_object.train_prop_1nn('Prop 1 Nearest Neighbour',0.95,0.2)\n",
    "    # pickle.dump(one_nn_model, open('/content/drive/MyDrive/EE_660_Project/SSL models/best_one_nn_model_exptb.pkl', 'wb'))\n",
    "    res_test_1nn=one_nn_object.test_prop_1nn('Prop 1 Nearest Neighbour',one_nn_model,X_test_final,y_test,0.2)\n",
    "\n",
    "    #EM\n",
    "    print('EM')\n",
    "    em_object = Expectation_Maximization(X_lab_copy, y_lab_copy, X_unlab_copy,y_unlab)\n",
    "    em_model,res_train_em= em_object.train_em('Expectation Maximization',X_train_numpy,y_train_numpy,0.5)\n",
    "    res_test_em=em_object.test_em('Expectation Maximization',em_model,X_test_final,y_test,0.5)\n",
    "    # pickle.dump(em_model, open('/content/drive/MyDrive/EE_660_Project/SSL models/best_em_model_exptb.pkl', 'wb'))\n",
    "   \n",
    "    #Label Propagation\n",
    "    print('Label Propagation')\n",
    "    label_prop_object = Label_Propagation(X_lab_copy, y_lab_copy, X_unlab_copy,y_unlab)\n",
    "    best_label_prop_model,res_train_label_prop=label_prop_object.train_label_prop('Label Propagation',0.2)\n",
    "    # pickle.dump(best_label_prop_model, open('/content/drive/MyDrive/EE_660_Project/SSL models/best_label_prop_model_exptb.pkl', 'wb'))\n",
    "    res_test_label_prop=label_prop_object.test_label_prop('Label Propagation',best_label_prop_model,X_test_final,y_test,0.2)\n",
    "\n",
    "    #S3VM\n",
    "    best_s3vm_model,res_train_s3vm=S3VM_function('Semi Supervised SVM',X_train_final, y_train)\n",
    "    res_test_s3vm=test_s3vm('Semi Supervised SVM',best_s3vm_model,X_test_final.tolist(),y_test.tolist())\n",
    "    # pickle.dump(best_s3vm_model, open('/content/drive/MyDrive/EE_660_Project/SSL models/best_s3vm_model_exptb.pkl', 'wb'))\n",
    "\n",
    "    \n",
    "    if(sl_flag==False):\n",
    "        print('Performance of SSL Algorithms on '+str(round(labeled_size*100))+'% Labeled Data during Training:')\n",
    "        ssl_train_data=[res_train_1nn,res_train_em,res_train_label_prop]#,res_train_s3vm]#,]\n",
    "        generate_test_table(ssl_train_data)\n",
    "        print()\n",
    "        print()\n",
    "        print('Performance of SSL Algorithms on '+str(round(labeled_size*100))+'% Labeled Data during Testing:')\n",
    "        ssl_test_data=[res_test_1nn,res_test_em,res_test_label_prop]#,res_test_s3vm]#,res_train_mlp]\n",
    "        generate_test_table(ssl_test_data)\n",
    "    else:\n",
    "        print('SSL Log Reg')\n",
    "        ssl_log_reg_object = SSL_Log_Reg(X_lab_copy, y_lab_copy, X_unlab_copy,y_unlab)\n",
    "        ssl_log_reg_model,res_train_ssl_log_reg=ssl_log_reg_object.train_ssl_log_reg('SSL Log Reg',0.95,0.2)\n",
    "        # pickle.dump(ssl_log_reg_model, open('/content/drive/MyDrive/EE_660_Project/SSL models/ssl_log_reg_model_exptb.pkl', 'wb'))\n",
    "        res_test_ssl_log_reg=ssl_log_reg_object.test_ssl_log_reg('SSL Log Reg',ssl_log_reg_model,X_test_final,y_test,0.2)\n",
    "       \n",
    "        print('SL Logistic Regression')\n",
    "        log_reg_param_grid ={'C': [10], 'solver': ['lbfgs']} \n",
    "        log_reg_clf = LogisticRegression()\n",
    "        log_reg_object = Logisitic_Regression(log_reg_clf,log_reg_param_grid,X_lab_copy,y_lab_copy)\n",
    "        best_log_reg_model,res_train_log_reg=log_reg_object.train_log_reg('Logistic Regression',0.2)\n",
    "        res_test_log_reg=log_reg_object.test_log_reg('Logistic Regression',best_log_reg_model,X_test_final,y_test,0.2)\n",
    "        # pickle.dump(ssl_log_reg_model, open('/content/drive/MyDrive/EE_660_Project/SSL models/sl_log_reg_model_exptb.pkl', 'wb'))\n",
    "       \n",
    "        print('Performance of SSL Algorithms on '+str(round(labeled_size*100))+'% Labeled Data during Training:')\n",
    "        ssl_train_data=[res_train_1nn,res_train_em,res_train_label_prop,res_train_ssl_log_reg,res_train_log_reg]\n",
    "        generate_test_table(ssl_train_data)\n",
    "        print()\n",
    "        print()\n",
    "        print('Performance of SSL Algorithms on '+str(round(labeled_size*100))+'% Labeled Data during Testing:')\n",
    "        ssl_test_data=[res_test_1nn,res_test_em,res_test_label_prop,res_test_ssl_log_reg,res_test_log_reg]\n",
    "        generate_test_table(ssl_test_data)"
   ]
  },
  {
   "cell_type": "markdown",
   "metadata": {
    "id": "oFc0cjvMcqKe"
   },
   "source": [
    "#### **SSL Results for 40% Labeled Data**"
   ]
  },
  {
   "cell_type": "code",
   "execution_count": null,
   "metadata": {
    "colab": {
     "base_uri": "https://localhost:8080/",
     "height": 1000
    },
    "id": "aK7wJY86EPFE",
    "outputId": "d99552ea-b6c8-4f66-9338-139b677c49ff"
   },
   "outputs": [],
   "source": [
    "run_ssl_algorithms(X_train_final,y_train,X_test_final,y_test,labeled_size=0.40,sl_flag=False)"
   ]
  },
  {
   "cell_type": "markdown",
   "metadata": {
    "id": "z5UPLEczvmhx"
   },
   "source": [
    "#### **SSL Results for 30% Labeled Data**"
   ]
  },
  {
   "cell_type": "code",
   "execution_count": null,
   "metadata": {
    "colab": {
     "base_uri": "https://localhost:8080/",
     "height": 1000
    },
    "id": "Y0dXMr1iuYQD",
    "outputId": "f3a9e3ee-fa64-4967-ee25-b6df6f50cb69"
   },
   "outputs": [],
   "source": [
    "run_ssl_algorithms(X_train_final,y_train,X_test_final,y_test,labeled_size=0.30,sl_flag=False)"
   ]
  },
  {
   "cell_type": "markdown",
   "metadata": {
    "id": "K_3IGAXAvnxd"
   },
   "source": [
    "#### **SSL Results for 20% Labeled Data**"
   ]
  },
  {
   "cell_type": "code",
   "execution_count": null,
   "metadata": {
    "colab": {
     "base_uri": "https://localhost:8080/",
     "height": 1000
    },
    "id": "_-X9Zi9evKbM",
    "outputId": "afa28abb-b6a4-4899-cbcf-7b0520f02043"
   },
   "outputs": [],
   "source": [
    "run_ssl_algorithms(X_train_final,y_train,X_test_final,y_test,labeled_size=0.20,sl_flag=False)"
   ]
  },
  {
   "cell_type": "markdown",
   "metadata": {
    "id": "X0acCP8EvpHD"
   },
   "source": [
    "#### **SSL Results for 10% Labeled Data**"
   ]
  },
  {
   "cell_type": "code",
   "execution_count": null,
   "metadata": {
    "colab": {
     "base_uri": "https://localhost:8080/",
     "height": 1000
    },
    "id": "ja8JN1N9vMPS",
    "outputId": "bd5181d1-02c8-44c4-fc37-02196948f840"
   },
   "outputs": [],
   "source": [
    "run_ssl_algorithms(X_train_final,y_train,X_test_final,y_test,labeled_size=0.10,sl_flag=False)"
   ]
  },
  {
   "cell_type": "markdown",
   "metadata": {
    "id": "c0QE33Xenfti"
   },
   "source": [
    "# **EXPERIMENTS**"
   ]
  },
  {
   "cell_type": "markdown",
   "metadata": {
    "id": "7Avq_Z9lnjTV"
   },
   "source": [
    "##  **(A)** *Sensitivity/ Perturbation Analysis*"
   ]
  },
  {
   "cell_type": "markdown",
   "metadata": {
    "id": "etcvUzmGw9SK"
   },
   "source": [
    "It is done by adding noise to the numerical features"
   ]
  },
  {
   "cell_type": "code",
   "execution_count": null,
   "metadata": {
    "id": "wHuviFe2mOJJ"
   },
   "outputs": [],
   "source": [
    "def add_gaussian_noise(x,mu,std):\n",
    "    '''Add gaussian noise to dataset'''\n",
    "    noise = np.random.normal(mu, std, size = x.shape)\n",
    "    x_noise = x + noise\n",
    "    return x_noise "
   ]
  },
  {
   "cell_type": "code",
   "execution_count": null,
   "metadata": {
    "id": "HVEiufl-vu4m"
   },
   "outputs": [],
   "source": [
    "X_train_noisy_final=X_train_final.copy()\n",
    "X_noisy_numerical=add_gaussian_noise(X_train_final[:,0:6],0,0.15)\n",
    "X_train_noisy_final[:,0:6]=X_noisy_numerical"
   ]
  },
  {
   "cell_type": "markdown",
   "metadata": {
    "id": "IYdyjBiPvsSm"
   },
   "source": [
    "#### **SSL Results for Noisy Labeled Data**"
   ]
  },
  {
   "cell_type": "code",
   "execution_count": null,
   "metadata": {
    "colab": {
     "base_uri": "https://localhost:8080/",
     "height": 1000
    },
    "id": "qqT89KtRqrbr",
    "outputId": "b9f19779-1ce8-4199-f6cd-8cb3bb60e9c3"
   },
   "outputs": [],
   "source": [
    "print('Performance after adding noise to the labeled data:')\n",
    "run_ssl_algorithms(X_train_noisy_final,y_train,X_test_final,y_test,labeled_size=0.40,sl_flag=False)"
   ]
  },
  {
   "cell_type": "markdown",
   "metadata": {
    "id": "rJjemLKEEZaT"
   },
   "source": [
    "##  **(B)** *Convert SL dataset to a SSL dataset*"
   ]
  },
  {
   "cell_type": "code",
   "execution_count": null,
   "metadata": {
    "colab": {
     "base_uri": "https://localhost:8080/",
     "height": 1000
    },
    "id": "75oeh6aIEhdh",
    "outputId": "09e8edee-1473-42e9-f4e2-e67be65f6643"
   },
   "outputs": [],
   "source": [
    "run_ssl_algorithms(X_train_final,y_train,X_test_final,y_test,labeled_size=0.30,sl_flag=True)"
   ]
  }
 ],
 "metadata": {
  "colab": {
   "collapsed_sections": [
    "PM4mlaENzkMj",
    "v5sec1CjwiDP",
    "RgUdVxlELLA_",
    "O25h9MPjLUIA",
    "giyvhYT9R2Ev",
    "casXIbPpSHCH",
    "j-9lnsNfSJ1A",
    "u66MPf2zoejr",
    "R9qVvk3oohVQ"
   ],
   "provenance": [],
   "toc_visible": true
  },
  "gpuClass": "standard",
  "kernelspec": {
   "display_name": "Python 3 (ipykernel)",
   "language": "python",
   "name": "python3"
  },
  "language_info": {
   "codemirror_mode": {
    "name": "ipython",
    "version": 3
   },
   "file_extension": ".py",
   "mimetype": "text/x-python",
   "name": "python",
   "nbconvert_exporter": "python",
   "pygments_lexer": "ipython3",
   "version": "3.9.12"
  }
 },
 "nbformat": 4,
 "nbformat_minor": 1
}
